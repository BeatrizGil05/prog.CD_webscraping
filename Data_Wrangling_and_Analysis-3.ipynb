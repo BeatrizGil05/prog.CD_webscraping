{
 "cells": [
  {
   "cell_type": "markdown",
   "id": "7ea18891-d24f-4da4-9706-861243fa64e4",
   "metadata": {},
   "source": [
    "### **Data Wrangling and Analysis**"
   ]
  },
  {
   "cell_type": "code",
   "execution_count": 49,
   "id": "97bf946c-99ee-4a2e-bb59-f0d174463f34",
   "metadata": {
    "tags": []
   },
   "outputs": [
    {
     "data": {
      "text/html": [
       "<div>\n",
       "<style scoped>\n",
       "    .dataframe tbody tr th:only-of-type {\n",
       "        vertical-align: middle;\n",
       "    }\n",
       "\n",
       "    .dataframe tbody tr th {\n",
       "        vertical-align: top;\n",
       "    }\n",
       "\n",
       "    .dataframe thead th {\n",
       "        text-align: right;\n",
       "    }\n",
       "</style>\n",
       "<table border=\"1\" class=\"dataframe\">\n",
       "  <thead>\n",
       "    <tr style=\"text-align: right;\">\n",
       "      <th></th>\n",
       "      <th>Name</th>\n",
       "      <th>Title</th>\n",
       "      <th>Courses</th>\n",
       "      <th>Publications</th>\n",
       "      <th>Biography</th>\n",
       "    </tr>\n",
       "  </thead>\n",
       "  <tbody>\n",
       "    <tr>\n",
       "      <th>0</th>\n",
       "      <td>Afonso Malheiro</td>\n",
       "      <td>Adjunct Lecturer</td>\n",
       "      <td>Web Analytics</td>\n",
       "      <td>0</td>\n",
       "      <td>Bachelor's degree in Management (Catholic Univ...</td>\n",
       "    </tr>\n",
       "    <tr>\n",
       "      <th>1</th>\n",
       "      <td>Afshin Ashofteh</td>\n",
       "      <td>Invited Assistant Professor</td>\n",
       "      <td>Banking and Insurance Economics, Credit Risk S...</td>\n",
       "      <td>21</td>\n",
       "      <td>Afshin Ashofteh is a full-time University Prof...</td>\n",
       "    </tr>\n",
       "    <tr>\n",
       "      <th>2</th>\n",
       "      <td>Alexandra Variz</td>\n",
       "      <td>Adjunct Lecturer</td>\n",
       "      <td>Digital Marketing &amp; E-Commerce</td>\n",
       "      <td>0</td>\n",
       "      <td>Currently, I am working as a Digital Marketing...</td>\n",
       "    </tr>\n",
       "    <tr>\n",
       "      <th>3</th>\n",
       "      <td>Alexandre Guilherme Marques</td>\n",
       "      <td>Adjunct Lecturer</td>\n",
       "      <td>Deep Learning</td>\n",
       "      <td>0</td>\n",
       "      <td>Alexandre Marques is an assistant professor at...</td>\n",
       "    </tr>\n",
       "    <tr>\n",
       "      <th>4</th>\n",
       "      <td>Alexandre Neto</td>\n",
       "      <td>Adjunct Lecturer</td>\n",
       "      <td>Group Project Seminar on Programming and Analysis</td>\n",
       "      <td>0</td>\n",
       "      <td>Bachelor's degree in Geographical Engineering ...</td>\n",
       "    </tr>\n",
       "  </tbody>\n",
       "</table>\n",
       "</div>"
      ],
      "text/plain": [
       "                          Name                        Title  \\\n",
       "0              Afonso Malheiro             Adjunct Lecturer   \n",
       "1              Afshin Ashofteh  Invited Assistant Professor   \n",
       "2              Alexandra Variz             Adjunct Lecturer   \n",
       "3  Alexandre Guilherme Marques             Adjunct Lecturer   \n",
       "4               Alexandre Neto             Adjunct Lecturer   \n",
       "\n",
       "                                             Courses  Publications  \\\n",
       "0                                      Web Analytics             0   \n",
       "1  Banking and Insurance Economics, Credit Risk S...            21   \n",
       "2                     Digital Marketing & E-Commerce             0   \n",
       "3                                      Deep Learning             0   \n",
       "4  Group Project Seminar on Programming and Analysis             0   \n",
       "\n",
       "                                           Biography  \n",
       "0  Bachelor's degree in Management (Catholic Univ...  \n",
       "1  Afshin Ashofteh is a full-time University Prof...  \n",
       "2  Currently, I am working as a Digital Marketing...  \n",
       "3  Alexandre Marques is an assistant professor at...  \n",
       "4  Bachelor's degree in Geographical Engineering ...  "
      ]
     },
     "execution_count": 49,
     "metadata": {},
     "output_type": "execute_result"
    }
   ],
   "source": [
    "# importing the dataset\n",
    "import pandas as pd\n",
    "\n",
    "data = pd.read_csv('/Users/beatrizgil/Documents/Prog.DC/Project_PDC/nova_ims_teaching_staff_2024-11-21.csv')\n",
    "\n",
    "data.head()"
   ]
  },
  {
   "cell_type": "code",
   "execution_count": 51,
   "id": "92868183-cb34-4f6c-a40d-3e598f0eb81d",
   "metadata": {
    "tags": []
   },
   "outputs": [
    {
     "name": "stdout",
     "output_type": "stream",
     "text": [
      "<class 'pandas.core.frame.DataFrame'>\n",
      "RangeIndex: 230 entries, 0 to 229\n",
      "Data columns (total 5 columns):\n",
      " #   Column        Non-Null Count  Dtype \n",
      "---  ------        --------------  ----- \n",
      " 0   Name          230 non-null    object\n",
      " 1   Title         230 non-null    object\n",
      " 2   Courses       230 non-null    object\n",
      " 3   Publications  230 non-null    int64 \n",
      " 4   Biography     225 non-null    object\n",
      "dtypes: int64(1), object(4)\n",
      "memory usage: 9.1+ KB\n"
     ]
    }
   ],
   "source": [
    "# identifying overall data integrity\n",
    "# there are 5 biographies missing\n",
    "# there is a total of 230 observations\n",
    "data.info()"
   ]
  },
  {
   "cell_type": "code",
   "execution_count": 53,
   "id": "78dedee2-1d76-4cf0-aa50-1dcebc59ccd6",
   "metadata": {
    "tags": []
   },
   "outputs": [
    {
     "data": {
      "text/html": [
       "<div>\n",
       "<style scoped>\n",
       "    .dataframe tbody tr th:only-of-type {\n",
       "        vertical-align: middle;\n",
       "    }\n",
       "\n",
       "    .dataframe tbody tr th {\n",
       "        vertical-align: top;\n",
       "    }\n",
       "\n",
       "    .dataframe thead th {\n",
       "        text-align: right;\n",
       "    }\n",
       "</style>\n",
       "<table border=\"1\" class=\"dataframe\">\n",
       "  <thead>\n",
       "    <tr style=\"text-align: right;\">\n",
       "      <th></th>\n",
       "      <th>Publications</th>\n",
       "    </tr>\n",
       "  </thead>\n",
       "  <tbody>\n",
       "    <tr>\n",
       "      <th>count</th>\n",
       "      <td>230.000000</td>\n",
       "    </tr>\n",
       "    <tr>\n",
       "      <th>mean</th>\n",
       "      <td>10.352174</td>\n",
       "    </tr>\n",
       "    <tr>\n",
       "      <th>std</th>\n",
       "      <td>30.695893</td>\n",
       "    </tr>\n",
       "    <tr>\n",
       "      <th>min</th>\n",
       "      <td>0.000000</td>\n",
       "    </tr>\n",
       "    <tr>\n",
       "      <th>25%</th>\n",
       "      <td>0.000000</td>\n",
       "    </tr>\n",
       "    <tr>\n",
       "      <th>50%</th>\n",
       "      <td>0.000000</td>\n",
       "    </tr>\n",
       "    <tr>\n",
       "      <th>75%</th>\n",
       "      <td>5.000000</td>\n",
       "    </tr>\n",
       "    <tr>\n",
       "      <th>max</th>\n",
       "      <td>218.000000</td>\n",
       "    </tr>\n",
       "  </tbody>\n",
       "</table>\n",
       "</div>"
      ],
      "text/plain": [
       "       Publications\n",
       "count    230.000000\n",
       "mean      10.352174\n",
       "std       30.695893\n",
       "min        0.000000\n",
       "25%        0.000000\n",
       "50%        0.000000\n",
       "75%        5.000000\n",
       "max      218.000000"
      ]
     },
     "execution_count": 53,
     "metadata": {},
     "output_type": "execute_result"
    }
   ],
   "source": [
    "# quick overview of the numerical variables (publications)\n",
    "data.describe()"
   ]
  },
  {
   "cell_type": "code",
   "execution_count": 55,
   "id": "38fc3150-5778-4ab2-8506-544987156324",
   "metadata": {
    "tags": []
   },
   "outputs": [
    {
     "data": {
      "text/html": [
       "<div>\n",
       "<style scoped>\n",
       "    .dataframe tbody tr th:only-of-type {\n",
       "        vertical-align: middle;\n",
       "    }\n",
       "\n",
       "    .dataframe tbody tr th {\n",
       "        vertical-align: top;\n",
       "    }\n",
       "\n",
       "    .dataframe thead th {\n",
       "        text-align: right;\n",
       "    }\n",
       "</style>\n",
       "<table border=\"1\" class=\"dataframe\">\n",
       "  <thead>\n",
       "    <tr style=\"text-align: right;\">\n",
       "      <th></th>\n",
       "      <th>Name</th>\n",
       "      <th>Title</th>\n",
       "      <th>Courses</th>\n",
       "      <th>Biography</th>\n",
       "    </tr>\n",
       "  </thead>\n",
       "  <tbody>\n",
       "    <tr>\n",
       "      <th>count</th>\n",
       "      <td>230</td>\n",
       "      <td>230</td>\n",
       "      <td>230</td>\n",
       "      <td>225</td>\n",
       "    </tr>\n",
       "    <tr>\n",
       "      <th>unique</th>\n",
       "      <td>230</td>\n",
       "      <td>10</td>\n",
       "      <td>190</td>\n",
       "      <td>206</td>\n",
       "    </tr>\n",
       "    <tr>\n",
       "      <th>top</th>\n",
       "      <td>Afonso Malheiro</td>\n",
       "      <td>Adjunct Lecturer</td>\n",
       "      <td>Research Methodologies, Research Methods, Rese...</td>\n",
       "      <td>Information available soon.</td>\n",
       "    </tr>\n",
       "    <tr>\n",
       "      <th>freq</th>\n",
       "      <td>1</td>\n",
       "      <td>115</td>\n",
       "      <td>7</td>\n",
       "      <td>20</td>\n",
       "    </tr>\n",
       "  </tbody>\n",
       "</table>\n",
       "</div>"
      ],
      "text/plain": [
       "                   Name             Title  \\\n",
       "count               230               230   \n",
       "unique              230                10   \n",
       "top     Afonso Malheiro  Adjunct Lecturer   \n",
       "freq                  1               115   \n",
       "\n",
       "                                                  Courses  \\\n",
       "count                                                 230   \n",
       "unique                                                190   \n",
       "top     Research Methodologies, Research Methods, Rese...   \n",
       "freq                                                    7   \n",
       "\n",
       "                          Biography  \n",
       "count                           225  \n",
       "unique                          206  \n",
       "top     Information available soon.  \n",
       "freq                             20  "
      ]
     },
     "execution_count": 55,
     "metadata": {},
     "output_type": "execute_result"
    }
   ],
   "source": [
    "# quick overview of the categorical and text columns (name, title, courses and biography)\n",
    "data.describe(include = 'O')"
   ]
  },
  {
   "cell_type": "code",
   "execution_count": 57,
   "id": "7736f69c-eed1-488c-b16c-f4af8c86c202",
   "metadata": {
    "tags": []
   },
   "outputs": [
    {
     "data": {
      "text/html": [
       "<div>\n",
       "<style scoped>\n",
       "    .dataframe tbody tr th:only-of-type {\n",
       "        vertical-align: middle;\n",
       "    }\n",
       "\n",
       "    .dataframe tbody tr th {\n",
       "        vertical-align: top;\n",
       "    }\n",
       "\n",
       "    .dataframe thead th {\n",
       "        text-align: right;\n",
       "    }\n",
       "</style>\n",
       "<table border=\"1\" class=\"dataframe\">\n",
       "  <thead>\n",
       "    <tr style=\"text-align: right;\">\n",
       "      <th></th>\n",
       "      <th>Biography</th>\n",
       "      <th>Count</th>\n",
       "    </tr>\n",
       "  </thead>\n",
       "  <tbody>\n",
       "    <tr>\n",
       "      <th>0</th>\n",
       "      <td>Information available soon.</td>\n",
       "      <td>20</td>\n",
       "    </tr>\n",
       "  </tbody>\n",
       "</table>\n",
       "</div>"
      ],
      "text/plain": [
       "                     Biography  Count\n",
       "0  Information available soon.     20"
      ]
     },
     "execution_count": 57,
     "metadata": {},
     "output_type": "execute_result"
    }
   ],
   "source": [
    "bios_data = pd.DataFrame(data['Biography'].value_counts()).reset_index()\n",
    "bios_data.columns = ['Biography', 'Count']\n",
    "\n",
    "dupl_bios = bios_data.query('Count > 1')\n",
    "dupl_bios.head()\n",
    "\n",
    "# there are 20 biographies which say 'Information available soon', which we decided not to change\n",
    "# there are still missing values in the biography column which we are treating next"
   ]
  },
  {
   "cell_type": "markdown",
   "id": "0f317f25-4b1a-4a9d-9d6d-55be30d37ddb",
   "metadata": {},
   "source": [
    "### 1.Treat missing values and duplicates, justify your approach"
   ]
  },
  {
   "cell_type": "code",
   "execution_count": 60,
   "id": "54b848de-c0c2-4f28-93e6-63bc11f6c037",
   "metadata": {
    "tags": []
   },
   "outputs": [
    {
     "data": {
      "text/html": [
       "<div>\n",
       "<style scoped>\n",
       "    .dataframe tbody tr th:only-of-type {\n",
       "        vertical-align: middle;\n",
       "    }\n",
       "\n",
       "    .dataframe tbody tr th {\n",
       "        vertical-align: top;\n",
       "    }\n",
       "\n",
       "    .dataframe thead th {\n",
       "        text-align: right;\n",
       "    }\n",
       "</style>\n",
       "<table border=\"1\" class=\"dataframe\">\n",
       "  <thead>\n",
       "    <tr style=\"text-align: right;\">\n",
       "      <th></th>\n",
       "      <th>Name</th>\n",
       "      <th>Count</th>\n",
       "    </tr>\n",
       "  </thead>\n",
       "  <tbody>\n",
       "  </tbody>\n",
       "</table>\n",
       "</div>"
      ],
      "text/plain": [
       "Empty DataFrame\n",
       "Columns: [Name, Count]\n",
       "Index: []"
      ]
     },
     "execution_count": 60,
     "metadata": {},
     "output_type": "execute_result"
    }
   ],
   "source": [
    "# checking if there are any duplicate observations in the dataframe\n",
    "# there are no duplicates since the returned dataframe of duplicate names is empty\n",
    "names_data = pd.DataFrame(data['Name'].value_counts()).reset_index()\n",
    "names_data.columns = ['Name', 'Count']\n",
    "\n",
    "dupl_names = names_data.query('Count > 1')\n",
    "dupl_names.head()"
   ]
  },
  {
   "cell_type": "code",
   "execution_count": 62,
   "id": "30586fb5-cc86-4f44-aebb-4bff167411c6",
   "metadata": {
    "tags": []
   },
   "outputs": [],
   "source": [
    "# filling the missing values (which only exist in the Biography column) with the string 'Nan'\n",
    "data['Biography'] = data['Biography'].fillna('Nan')"
   ]
  },
  {
   "cell_type": "markdown",
   "id": "1affd50a-1dc6-4a88-8176-04bbdf6a16e5",
   "metadata": {},
   "source": [
    "### 2.a) Which teachers have the highest wordcount* (top 1, name only)?"
   ]
  },
  {
   "cell_type": "code",
   "execution_count": 73,
   "id": "43e629ca-704c-447f-9ee0-c4311cff7660",
   "metadata": {},
   "outputs": [
    {
     "name": "stdout",
     "output_type": "stream",
     "text": [
      "The teacher with the highest word count: Miguel de Castro Neto\n"
     ]
    }
   ],
   "source": [
    "# Calculate word count for each biography\n",
    "data['word_count'] = data['Biography'].str.split().str.len()\n",
    "\n",
    "# Sum word counts per teacher\n",
    "word_counts = data.groupby(\"Name\")[\"word_count\"].sum()\n",
    "\n",
    "# Sort the values in descending order and extract the top teacher(name only)\n",
    "top_wordcount_teacher = word_counts.sort_values(ascending=False).index[0]\n",
    "\n",
    "print(\"The teacher with the highest word count:\", top_wordcount_teacher)"
   ]
  },
  {
   "cell_type": "markdown",
   "id": "37976119-9684-449c-9939-328422135940",
   "metadata": {},
   "source": [
    "### 2.b) highest coursecount* (top 5) ?"
   ]
  },
  {
   "cell_type": "code",
   "execution_count": 87,
   "id": "e8cf4604-1ab8-4deb-b38e-62432bf80033",
   "metadata": {},
   "outputs": [
    {
     "name": "stdout",
     "output_type": "stream",
     "text": [
      "The top 5 teachers with the highest coursecount are:\n",
      " Name\n",
      "Guilherme Victorino    43\n",
      "Joana Neves            38\n",
      "Pedro Simões Coelho    37\n",
      "Ian Scott              37\n",
      "Vítor Santos           31\n",
      "Name: course_count, dtype: int64\n"
     ]
    }
   ],
   "source": [
    "# Calculate course count for each teacher\n",
    "data['course_count'] = data['Courses'].str.split(',').str.len()\n",
    "\n",
    "# Sort data by course count in descending order\n",
    "cc_sorted = data.sort_values(by='course_count', ascending=False)\n",
    "\n",
    "# Get the 5 teachers' names with the highest course counts\n",
    "top_teachers = cc_sorted.iloc[0:5][['Name','course_count']]\n",
    "\n",
    "print(\"The top 5 teachers with the highest coursecount are:\\n\", top_5_coursecount)"
   ]
  },
  {
   "cell_type": "markdown",
   "id": "87853c84-0827-4ad8-bbe0-a2744b5cb1f8",
   "metadata": {},
   "source": [
    "### 2.c) most publications (top 10) ?"
   ]
  },
  {
   "cell_type": "code",
   "execution_count": 41,
   "id": "ef6a1fe3-141e-49d5-baee-0157e76073e3",
   "metadata": {},
   "outputs": [
    {
     "name": "stdout",
     "output_type": "stream",
     "text": [
      "The 10 publications with highest count are \n",
      " Name\n",
      "Tiago Oliveira           218\n",
      "Mauro Castelli           213\n",
      "Leonardo Vanneschi       198\n",
      "Marco Painho             131\n",
      "Miguel de Castro Neto    116\n",
      "Vítor Santos             109\n",
      "Fernando Bação            92\n",
      "Jorge Bravo               89\n",
      "Diego Costa Pinto         78\n",
      "Mário Caetano             76\n",
      "Name: Publications, dtype: int64\n"
     ]
    }
   ],
   "source": [
    "publication_counts = data.groupby(\"Name\")[\"Publications\"].sum()\n",
    "\n",
    "# Sort values in descending order and extract the top 10 teachers\n",
    "top_10_most_pub = publication_counts.sort_values(ascending=False).head(10)\n",
    "\n",
    "print(\"The 10 publications with highest count are \\n\", top_10_most_pub)"
   ]
  },
  {
   "cell_type": "markdown",
   "id": "5b9f9184-288a-4ac2-84ce-f8f1dfb52093",
   "metadata": {},
   "source": [
    "### 3.a) How are the wordcount, coursecount and publications distributed and related?"
   ]
  },
  {
   "cell_type": "code",
   "execution_count": null,
   "id": "bd32973a-492e-46fe-92fe-cf284415271f",
   "metadata": {},
   "outputs": [],
   "source": []
  },
  {
   "cell_type": "markdown",
   "id": "80d3da02-64e1-43e5-9a8c-52bc41085d2e",
   "metadata": {},
   "source": [
    "### 3.b) Are there differences in those variables for different types of teachers"
   ]
  },
  {
   "cell_type": "code",
   "execution_count": null,
   "id": "9717a4f7-5310-4258-ba82-be9f25e6a07d",
   "metadata": {},
   "outputs": [],
   "source": []
  },
  {
   "cell_type": "markdown",
   "id": "c8a49334-8de2-41f3-8045-3d297ea9a496",
   "metadata": {},
   "source": [
    "### 4.a) How many different courses (unique course names) are taught at NOVA IMS?"
   ]
  },
  {
   "cell_type": "code",
   "execution_count": null,
   "id": "e6f14b36-2f8f-42ef-bcec-3a9641178c45",
   "metadata": {},
   "outputs": [],
   "source": []
  },
  {
   "cell_type": "markdown",
   "id": "e5128ee2-c753-406f-aa8e-9ef2581c5dd1",
   "metadata": {},
   "source": [
    "### 4.b) How many courses (unique course names) are taught by only one teacher?"
   ]
  },
  {
   "cell_type": "code",
   "execution_count": null,
   "id": "93b862d6-c88d-48c5-bdc0-93eba97ebc49",
   "metadata": {},
   "outputs": [],
   "source": []
  },
  {
   "cell_type": "markdown",
   "id": "191e21fb-008a-4faa-a8df-aa08a94b0975",
   "metadata": {},
   "source": [
    "### 4.c) What's the probability of someone teaching 'Data Mining I' also teaching ‘Data Mining II'?"
   ]
  },
  {
   "cell_type": "code",
   "execution_count": null,
   "id": "19802117-8b62-4703-933b-ddf9545cbdf9",
   "metadata": {},
   "outputs": [],
   "source": []
  },
  {
   "cell_type": "code",
   "execution_count": null,
   "id": "3117c7a5-5085-4164-8918-d165c099584b",
   "metadata": {},
   "outputs": [],
   "source": []
  },
  {
   "cell_type": "code",
   "execution_count": null,
   "id": "993d34cf-3fc3-4519-a479-7c20381aade2",
   "metadata": {},
   "outputs": [],
   "source": []
  },
  {
   "cell_type": "code",
   "execution_count": null,
   "id": "d4454733-e151-4d87-a086-3c59e4a533b6",
   "metadata": {},
   "outputs": [],
   "source": []
  }
 ],
 "metadata": {
  "kernelspec": {
   "display_name": "Python 3 (ipykernel)",
   "language": "python",
   "name": "python3"
  },
  "language_info": {
   "codemirror_mode": {
    "name": "ipython",
    "version": 3
   },
   "file_extension": ".py",
   "mimetype": "text/x-python",
   "name": "python",
   "nbconvert_exporter": "python",
   "pygments_lexer": "ipython3",
   "version": "3.11.4"
  }
 },
 "nbformat": 4,
 "nbformat_minor": 5
}
